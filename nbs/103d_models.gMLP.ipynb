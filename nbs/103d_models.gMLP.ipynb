{
 "cells": [
  {
   "cell_type": "code",
   "execution_count": null,
   "metadata": {},
   "outputs": [],
   "source": [
    "# default_exp models.gMLP"
   ]
  },
  {
   "cell_type": "markdown",
   "metadata": {},
   "source": [
    "# gMLP\n",
    "\n",
    "> This is an unofficial PyTorch implementation based on **Liu, H., Dai, Z., So, D. R., & Le, Q. V. (2021). Pay Attention to MLPs. arXiv preprint arXiv:2105.08050.** and **Cholakov, R., & Kolev, T. (2022). The GatedTabTransformer. An enhanced deep learning architecture for tabular modeling. arXiv preprint arXiv:2201.00199.**"
   ]
  },
  {
   "cell_type": "code",
   "execution_count": null,
   "metadata": {},
   "outputs": [],
   "source": [
    "#export\n",
    "from tsai.imports import *\n",
    "from tsai.models.layers import *"
   ]
  },
  {
   "cell_type": "code",
   "execution_count": null,
   "metadata": {},
   "outputs": [],
   "source": [
    "#export\n",
    "class _SpatialGatingUnit(nn.Module):\n",
    "    def __init__(self, d_ffn, seq_len):\n",
    "        super().__init__()\n",
    "        self.norm = nn.LayerNorm(d_ffn)\n",
    "        self.spatial_proj = nn.Conv1d(seq_len, seq_len, kernel_size=1)\n",
    "        nn.init.constant_(self.spatial_proj.bias, 1.0)\n",
    "        nn.init.normal_(self.spatial_proj.weight, std=1e-6)\n",
    "\n",
    "    def forward(self, x):\n",
    "        u, v = x.chunk(2, dim=-1)\n",
    "        v = self.norm(v)\n",
    "        v = self.spatial_proj(v)\n",
    "        out = u * v\n",
    "        return out\n",
    "\n",
    "\n",
    "class _gMLPBlock(nn.Module):\n",
    "    def __init__(self, d_model, d_ffn, seq_len):\n",
    "        super().__init__()\n",
    "        self.norm = nn.LayerNorm(d_model)\n",
    "        self.channel_proj1 = nn.Linear(d_model, d_ffn * 2)\n",
    "        self.channel_proj2 = nn.Linear(d_ffn, d_model)\n",
    "        self.sgu = _SpatialGatingUnit(d_ffn, seq_len)\n",
    "\n",
    "    def forward(self, x):\n",
    "        residual = x\n",
    "        x = self.norm(x)\n",
    "        x = F.gelu(self.channel_proj1(x))\n",
    "        x = self.sgu(x)\n",
    "        x = self.channel_proj2(x)\n",
    "        out = x + residual\n",
    "        return out\n",
    "\n",
    "\n",
    "class _gMLPBackbone(nn.Module):\n",
    "    def __init__(self, d_model=256, d_ffn=512, seq_len=256, depth=6):\n",
    "        super().__init__()\n",
    "        self.model = nn.Sequential(\n",
    "            *[_gMLPBlock(d_model, d_ffn, seq_len) for _ in range(depth)]\n",
    "        )\n",
    "\n",
    "    def forward(self, x):\n",
    "        return self.model(x)\n",
    "\n",
    "\n",
    "class gMLP(_gMLPBackbone):\n",
    "    def __init__(\n",
    "        self,\n",
    "        c_in,\n",
    "        c_out,\n",
    "        seq_len,\n",
    "        patch_size=1,\n",
    "        d_model=256,\n",
    "        d_ffn=512,\n",
    "        depth=6,\n",
    "    ):\n",
    "        assert seq_len % patch_size == 0, \"`seq_len` must be divisibe by `patch_size`\"\n",
    "        super().__init__(d_model, d_ffn, seq_len // patch_size, depth)\n",
    "        self.patcher = nn.Conv1d(\n",
    "            c_in, d_model, kernel_size=patch_size, stride=patch_size\n",
    "        )\n",
    "        self.head = nn.Linear(d_model, c_out)\n",
    "\n",
    "    def forward(self, x):\n",
    "        patches = self.patcher(x)\n",
    "        batch_size, num_channels, _ = patches.shape\n",
    "        patches = patches.permute(0, 2, 1)\n",
    "        patches = patches.view(batch_size, -1, num_channels)\n",
    "        embedding = self.model(patches)\n",
    "        embedding = embedding.mean(dim=1)\n",
    "        out = self.head(embedding)\n",
    "        return out"
   ]
  },
  {
   "cell_type": "code",
   "execution_count": null,
   "metadata": {},
   "outputs": [],
   "source": [
    "bs = 16\n",
    "c_in = 3\n",
    "c_out = 2\n",
    "seq_len = 64\n",
    "patch_size = 4\n",
    "xb = torch.rand(bs, c_in, seq_len)\n",
    "model = gMLP(c_in, c_out, seq_len, patch_size=patch_size)\n",
    "test_eq(model(xb).shape, (bs, c_out))"
   ]
  },
  {
   "cell_type": "code",
   "execution_count": null,
   "metadata": {},
   "outputs": [],
   "source": [
    "#hide\n",
    "out = create_scripts()\n",
    "beep(out)"
   ]
  },
  {
   "cell_type": "code",
   "execution_count": null,
   "metadata": {},
   "outputs": [],
   "source": []
  }
 ],
 "metadata": {
  "kernelspec": {
   "display_name": "Python 3",
   "language": "python",
   "name": "python3"
  }
 },
 "nbformat": 4,
 "nbformat_minor": 2
}
