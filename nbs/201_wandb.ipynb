{
 "cells": [
  {
   "cell_type": "code",
   "execution_count": null,
   "metadata": {},
   "outputs": [],
   "source": [
    "# default_exp wandb"
   ]
  },
  {
   "cell_type": "markdown",
   "metadata": {},
   "source": [
    "# Weights & Biases Sweeps\n",
    "\n",
    "> Weights & Biases Sweeps are used to automate hyperparameter optimization and explore the space of possible models."
   ]
  },
  {
   "cell_type": "code",
   "execution_count": null,
   "metadata": {},
   "outputs": [],
   "source": [
    "#export\n",
    "from fastcore.script import *\n",
    "from tsai.imports import *\n",
    "from tsai.utils import *\n",
    "from tsai.export import *"
   ]
  },
  {
   "cell_type": "code",
   "execution_count": null,
   "metadata": {},
   "outputs": [],
   "source": [
    "# # hide\n",
    "# import os\n",
    "# from tsai.imports import *\n",
    "# from tsai.utils import *\n",
    "# from fastcore.script import *\n",
    "# from fastcore.xtras import *\n",
    "\n",
    "# @call_parse\n",
    "# def run_sweep(\n",
    "#     sweep:     Param(\"Path to YAML file with the sweep config\", str) = None,\n",
    "#     program:   Param(\"Path to Python training script\", str) = None,\n",
    "#     launch:    Param(\"Launch wanbd agent.\", store_false) = True,\n",
    "#     count:     Param(\"Number of runs to execute\", int) = None,\n",
    "#     entity:    Param(\"username or team name where you're sending runs\", str) = None,\n",
    "#     project:   Param(\"The name of the project where you're sending the new run.\", str) = None,\n",
    "#     sweep_id:  Param(\"Sweep ID. This option omits `sweep`\", str) = None,\n",
    "#     relogin:   Param(\"Relogin to wandb.\", store_true) = False,\n",
    "#     login_key: Param(\"Login key for wandb\", str) = None,\n",
    "# ):\n",
    "\n",
    "#     # import wandb\n",
    "#     try:\n",
    "#         import wandb\n",
    "#     except ImportError:\n",
    "#         raise ImportError('You need to install wandb to run sweeps!')\n",
    "\n",
    "#     # Login to W&B\n",
    "#     if relogin:\n",
    "#         wandb.login(relogin=True)\n",
    "#     elif login_key:\n",
    "#         wandb.login(key=login_key)\n",
    "\n",
    "#     # Sweep id\n",
    "#     if not sweep_id:\n",
    "#         # Load the sweep config\n",
    "#         assert os.path.isfile(sweep), f\"can't find file {sweep}\"\n",
    "#         if isinstance(sweep, str):\n",
    "#             sweep = yaml2dict(sweep)\n",
    "#         if program is None:\n",
    "#             program = sweep[\"program\"]\n",
    "#         # Initialize the sweep\n",
    "#         print('Initializing sweep...')\n",
    "#         sweep_id = wandb.sweep(sweep=sweep, entity=entity, project=project)\n",
    "#         print('...sweep initialized')\n",
    "\n",
    "#     # Load your training script\n",
    "#     print('Loading training script...')\n",
    "#     assert program is not None, \"you need to pass either a sweep or program path\"\n",
    "#     while True: \n",
    "#         if program[0] in \"/ .\": program = program.split(program[0], 1)[1]\n",
    "#         else: break\n",
    "#     if '/' in program and program.rsplit('/', 1)[0] not in sys.path: sys.path.append(program.rsplit('/', 1)[0])\n",
    "# #     assert os.path.isfile(program), f\"can't find file program = {program}\"\n",
    "#     train_script, file_path = import_file_as_module(program, True)\n",
    "#     assert hasattr(train_script, \"train\")\n",
    "#     train_fn = train_script.train\n",
    "#     print('...training script loaded')\n",
    "\n",
    "#     # Launch agent\n",
    "#     if launch:\n",
    "#         print('\\nRun additional sweep agents with:\\n')\n",
    "#     else:\n",
    "#         print('\\nRun sweep agent with:\\n')\n",
    "#     print('    from a notebook:')\n",
    "#     print('        import wandb')\n",
    "#     print(f'        from {file_path} import train')\n",
    "#     print(f\"        wandb.agent('{sweep_id}', function=train, count=None)\\n\")\n",
    "#     print('    from a terminal:')\n",
    "#     print(\n",
    "#         f\"        wandb agent {os.environ['WANDB_ENTITY']}/{os.environ['WANDB_PROJECT']}/{sweep_id}\\n\")\n",
    "#     if launch:\n",
    "#         print('Running agent...')\n",
    "#         try: \n",
    "#             wandb.agent(sweep_id, function=train_fn, count=count)\n",
    "#         except KeyboardInterrupt:\n",
    "#             pass"
   ]
  },
  {
   "cell_type": "code",
   "execution_count": null,
   "metadata": {},
   "outputs": [],
   "source": [
    "# hide\n",
    "# @call_parse\n",
    "# def run_sweep(path:      Param('Path to file with the sweep script file', str) = None,\n",
    "#               entity:    Param(\"username or team name where you're sending runs\", str) = None,\n",
    "#               project:   Param(\"The name of the project where you're sending the new run.\", str) = None,\n",
    "#               count:     Param('Number of runs to execute', int) = None,\n",
    "#               sweep_id:  Param('Sweep ID. This option omits `sweep`', str) = None,\n",
    "#               launch:    Param(\"Launch wanbd agent.\", store_false) = True,\n",
    "#               relogin:   Param('Relogin to wandb.', store_true) = False,\n",
    "#               login_key: Param('Login key for wandb', str) = None,\n",
    "#               ):\n",
    "\n",
    "#     try: import wandb\n",
    "#     except ImportError: raise ImportError('You need to install wandb to run sweeps!')\n",
    "        \n",
    "#     # Login to W&B\n",
    "#     if relogin: wandb.login(relogin=True)\n",
    "#     elif login_key: wandb.login(key=login_key)\n",
    "        \n",
    "#     # Sweep id\n",
    "#     mod = import_file_as_module(path)\n",
    "#     if not sweep_id:\n",
    "#         sweep_id = wandb.sweep(mod.sweep, entity=entity, project=project)\n",
    "    \n",
    "#     # Agent\n",
    "#     print(f\"\\nwandb agent {os.environ['WANDB_ENTITY']}/{os.environ['WANDB_PROJECT']}/{sweep_id}\\n\")\n",
    "#     if launch: wandb.agent(sweep_id, function=mod.train, count=count)"
   ]
  },
  {
   "cell_type": "code",
   "execution_count": null,
   "metadata": {},
   "outputs": [],
   "source": [
    "# export\n",
    "def wandb_agent(script_path, sweep, entity=None, project=None, count=None, run=True):\n",
    "    try: import wandb\n",
    "    except ImportError: raise ImportError('You need to install wandb to run sweeps!')\n",
    "    if 'program' not in sweep.keys(): sweep[\"program\"] = script_path\n",
    "    sweep_id = wandb.sweep(sweep, entity=entity, project=project)\n",
    "    entity = ifnone(entity, os.environ['WANDB_ENTITY'])\n",
    "    project = ifnone(project, os.environ['WANDB_PROJECT'])\n",
    "    print(f\"\\nwandb agent {entity}/{project}/{sweep_id}\\n\")\n",
    "    if run: wandb.agent(sweep_id, function=None, count=count)\n",
    "\n",
    "get_wandb_agent = named_partial(\"get_wandb_agent\", wandb_agent, run=False)\n",
    "\n",
    "run_wandb_agent = named_partial(\"run_wandb_agent\", wandb_agent, run=True)"
   ]
  },
  {
   "cell_type": "code",
   "execution_count": null,
   "metadata": {},
   "outputs": [
    {
     "data": {
      "application/javascript": "IPython.notebook.save_checkpoint();",
      "text/plain": [
       "<IPython.core.display.Javascript object>"
      ]
     },
     "metadata": {},
     "output_type": "display_data"
    },
    {
     "name": "stdout",
     "output_type": "stream",
     "text": [
      "201_wandb.ipynb saved at 2022-03-01 12:46:18.\n",
      "Converted 201_wandb.ipynb.\n",
      "\n",
      "\n",
      "Correct conversion! 😃\n",
      "Total time elapsed 0.144 s\n",
      "Tuesday 01/03/22 12:46:22 CET\n"
     ]
    },
    {
     "data": {
      "text/html": [
       "\n",
       "                <audio  controls=\"controls\" autoplay=\"autoplay\">\n",
       "                    <source src=\"data:audio/wav;base64,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\" type=\"audio/wav\" />\n",
       "                    Your browser does not support the audio element.\n",
       "                </audio>\n",
       "              "
      ],
      "text/plain": [
       "<IPython.lib.display.Audio object>"
      ]
     },
     "metadata": {},
     "output_type": "display_data"
    }
   ],
   "source": [
    "#hide\n",
    "from tsai.imports import *\n",
    "from tsai.export import *\n",
    "nb_name = get_nb_name()\n",
    "# nb_name = \"201_wandb.ipynb\"\n",
    "create_scripts(nb_name);"
   ]
  },
  {
   "cell_type": "code",
   "execution_count": null,
   "metadata": {},
   "outputs": [],
   "source": []
  }
 ],
 "metadata": {
  "kernelspec": {
   "display_name": "Python 3 (ipykernel)",
   "language": "python",
   "name": "python3"
  }
 },
 "nbformat": 4,
 "nbformat_minor": 4
}
