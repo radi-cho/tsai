{
 "cells": [
  {
   "cell_type": "code",
   "execution_count": null,
   "metadata": {},
   "outputs": [],
   "source": [
    "#hide\n",
    "from tsai.all import *"
   ]
  },
  {
   "cell_type": "markdown",
   "metadata": {},
   "source": [
    "# tsai"
   ]
  },
  {
   "cell_type": "markdown",
   "metadata": {},
   "source": [
    "![CI](https://github.com/timeseriesai/tsai/workflows/CI/badge.svg) [![PyPI](https://img.shields.io/pypi/v/tsai?color=blue&label=pypi%20version)](https://pypi.org/project/tsai/#description) [![DOI](https://zenodo.org/badge/211822289.svg)](https://zenodo.org/badge/latestdoi/211822289) ![PRs](https://img.shields.io/badge/PRs-welcome-brightgreen.svg)"
   ]
  },
  {
   "cell_type": "markdown",
   "metadata": {},
   "source": [
    "## Description\n",
    "> State-of-the-art Deep Learning library for Time Series and Sequences. \n",
    "\n",
    "`tsai` is an open-source deep learning package built on top of Pytorch & fastai focused on state-of-the-art techniques for time series tasks like classification, regression, forecasting, imputation...\n",
    "\n",
    "`tsai` is currently under active development by timeseriesAI."
   ]
  },
  {
   "cell_type": "markdown",
   "metadata": {},
   "source": [
    "## What's new:"
   ]
  },
  {
   "cell_type": "markdown",
   "metadata": {},
   "source": [
    "#### March 2022"
   ]
  },
  {
   "cell_type": "markdown",
   "metadata": {},
   "source": [
    "* ⚡️ Starting with **tsai 0.3.0** you'll get **faster installs and imports** through a better use of dependencies.\n",
    "* New visualization methods: learn.feature_importance() and learn.step_importance() will help you gain better insights on how your models works.\n",
    "* New calibration model: learn.calibrate_model() for time series classification tasks."
   ]
  },
  {
   "cell_type": "markdown",
   "metadata": {},
   "source": [
    "#### November, 2021"
   ]
  },
  {
   "cell_type": "markdown",
   "metadata": {},
   "source": [
    "- ✅ Implemented some of the learnings from reviewing Kaggle's latest time series competition (see Medium [blog post](https://towardsdatascience.com/key-takeaways-from-kaggles-most-recent-time-series-competition-ventilator-pressure-prediction-7a1d2e4e0131?source=user_profile---------0-------------------------------) for more details) like:\n",
    "    - improved RNN initialization (based on a kernel shared by https://www.kaggle.com/junkoda)\n",
    "    - added the option to pass a feature extractor to RNNPlus & TSiT (Transformer) models.  \n",
    "    - created a MultiConv layer that allows the concatenation of original features with the output of one or multiple convolution layers in parallel."
   ]
  },
  {
   "cell_type": "markdown",
   "metadata": {},
   "source": [
    "#### September, 2021\n",
    "* See our new tutorial notebook on how to **track your experiments with Weights & Biases**\n",
    "<a href=\"https://colab.research.google.com/github/timeseriesAI/tsai/blob/master/tutorial_nbs/12_Experiment_tracking_with_W%26B.ipynb\" target=\"_parent\"><img src=\"https://colab.research.google.com/assets/colab-badge.svg\" alt=\"Open In Colab\"/></a>\n",
    "* `tsai` just got easier to use with the new sklearn-like APIs: `TSClassifier`, `TSRegressor`, and `TSForecaster`!! See [this](https://timeseriesai.github.io/tsai/tslearner.html) for more info.\n",
    "* New tutorial notebook on how to **train your model with larger-than-memory datasets in less time achieving up to 100% GPU usage!!**   <a href=\"https://colab.research.google.com/github/timeseriesAI/tsai/blob/master/tutorial_nbs/11_How_to_train_big_arrays_faster_with_tsai.ipynb\" target=\"_parent\"><img src=\"https://colab.research.google.com/assets/colab-badge.svg\" alt=\"Open In Colab\"/></a>\n",
    "\n",
    "* **`tsai` supports now more input formats**: np.array, np.memmap, zarr, xarray, dask, list, L, ..."
   ]
  },
  {
   "cell_type": "markdown",
   "metadata": {},
   "source": [
    "#### Previously\n",
    "\n",
    "* **MINIROCKET** a SOTA Time Series Classification model (now available in Pytorch):\n",
    "You can now check MiniRocket's performance in our new tutorial notebook <a href=\"https://colab.research.google.com/github/timeseriesAI/tsai/blob/master/tutorial_nbs/10_Time_Series_Classification_and_Regression_with_MiniRocket.ipynb\" target=\"_parent\"><img src=\"https://colab.research.google.com/assets/colab-badge.svg\" alt=\"Open In Colab\"/></a>\n",
    "\n",
    ">\"Using this method, it is possible to train and test a classifier on all of 109 datasets from the UCR archive to state-of-the-art accuracy in less than 10 minutes.\" A. Dempster et al. (Dec 2020)\n",
    "\n",
    "* **Multi-class and multi-label time series classification notebook:** you can also check our new tutorial notebook: <a href=\"https://colab.research.google.com/github/timeseriesAI/tsai/blob/master/tutorial_nbs/01a_MultiClass_MultiLabel_TSClassification.ipynb\" target=\"_parent\"><img src=\"https://colab.research.google.com/assets/colab-badge.svg\" alt=\"Open In Colab\"/></a>\n",
    "\n",
    "* **Self-supervised learning:** Learn how to leverage your unlabeled datasets <a href=\"https://colab.research.google.com/github/timeseriesAI/tsai/blob/master/tutorial_nbs/08_Self_Supervised_TSBERT.ipynb\" target=\"_parent\"><img src=\"https://colab.research.google.com/assets/colab-badge.svg\" alt=\"Open In Colab\"/></a>\n",
    "\n",
    "* **New visualization:**\n",
    "We've also added a new PredictionDynamics callback that will display the predictions during training. This is the type of output you would get in a classification task for example:\n",
    "<p align=\"center\">\n",
    "    <img src=\"https://github.com/timeseriesAI/tsai/blob/main/nbs/multimedia/LSST_PD.gif?raw=true\">\n",
    "</p>"
   ]
  },
  {
   "cell_type": "markdown",
   "metadata": {},
   "source": [
    "## Installation"
   ]
  },
  {
   "cell_type": "markdown",
   "metadata": {},
   "source": [
    "You can install the **latest stable** version from pip using:\n",
    "```python\n",
    "pip install tsai\n",
    "```\n",
    "\n",
    "Or you can install the **cutting edge** version of this library from github by doing:\n",
    "```python\n",
    "pip install -Uqq git+https://github.com/timeseriesAI/tsai.git\n",
    "```\n",
    "\n",
    "Once the install is complete just run: \n",
    "```python\n",
    "from tsai.all import *\n",
    "```\n",
    "\n",
    "Note: starting with tsai 0.3.0 tsai will only install hard dependencies. Other soft dependencies (which are only required for selected tasks) will not be installed by default (this is the recommended approach. If you require any of the dependencies that is not installed, tsai will ask you to install it when necessary). If you still want to install tsai with all its dependencies you can do it by running:\n",
    "```python\n",
    "pip install tsai[extras]\n",
    "```"
   ]
  },
  {
   "cell_type": "markdown",
   "metadata": {},
   "source": [
    "## Documentation"
   ]
  },
  {
   "cell_type": "markdown",
   "metadata": {},
   "source": [
    "Here's the link to the [documentation](https://timeseriesai.github.io/tsai/)."
   ]
  },
  {
   "cell_type": "markdown",
   "metadata": {},
   "source": [
    "## Available models:"
   ]
  },
  {
   "cell_type": "markdown",
   "metadata": {},
   "source": [
    "Here's a list with some of the state-of-the-art models available in `tsai`:\n",
    "\n",
    "- [LSTM](https://github.com/timeseriesAI/tsai/blob/main/tsai/models/RNN.py) (Hochreiter, 1997) ([paper](https://ieeexplore.ieee.org/abstract/document/6795963/))\n",
    "- [GRU](https://github.com/timeseriesAI/tsai/blob/main/tsai/models/RNN.py) (Cho, 2014) ([paper](https://arxiv.org/abs/1412.3555))\n",
    "- [MLP](https://github.com/timeseriesAI/tsai/blob/main/tsai/models/MLP.py) - Multilayer Perceptron (Wang, 2016) ([paper](https://arxiv.org/abs/1611.06455))\n",
    "- [gMLP](https://github.com/timeseriesAI/tsai/blob/main/tsai/models/gMLP.py) - Gated Multilayer Perceptron (Liu, 2021) ([paper](https://arxiv.org/abs/2105.08050))\n",
    "- [FCN](https://github.com/timeseriesAI/tsai/blob/main/tsai/models/FCN.py) - Fully Convolutional Network (Wang, 2016) ([paper](https://arxiv.org/abs/1611.06455))\n",
    "- [ResNet](https://github.com/timeseriesAI/tsai/blob/main/tsai/models/ResNet.py) - Residual Network (Wang, 2016) ([paper](https://arxiv.org/abs/1611.06455))\n",
    "- [LSTM-FCN](https://github.com/timeseriesAI/tsai/blob/main/tsai/models/RNN_FCN.py) (Karim, 2017) ([paper](https://arxiv.org/abs/1709.05206))\n",
    "- [GRU-FCN](https://github.com/timeseriesAI/tsai/blob/main/tsai/models/RNN_FCN.py) (Elsayed, 2018) ([paper](https://arxiv.org/abs/1812.07683))\n",
    "- [mWDN](https://github.com/timeseriesAI/tsai/blob/main/tsai/models/mWDN.py) - Multilevel wavelet decomposition network (Wang, 2018) ([paper](https://dl.acm.org/doi/abs/10.1145/3219819.3220060))\n",
    "- [TCN](https://github.com/timeseriesAI/tsai/blob/main/tsai/models/TCN.py) - Temporal Convolutional Network (Bai, 2018) ([paper](https://arxiv.org/abs/1803.01271))\n",
    "- [MLSTM-FCN](https://github.com/timeseriesAI/tsai/blob/main/tsai/models/RNN_FCN.py) - Multivariate LSTM-FCN (Karim, 2019) ([paper](https://www.sciencedirect.com/science/article/abs/pii/S0893608019301200))\n",
    "- [InceptionTime](https://github.com/timeseriesAI/tsai/blob/main/tsai/models/InceptionTime.py) (Fawaz, 2019) ([paper](https://arxiv.org/abs/1909.04939))\n",
    "- [Rocket](https://github.com/timeseriesAI/tsai/blob/main/tsai/models/ROCKET.py) (Dempster, 2019) ([paper](https://arxiv.org/abs/1910.13051))\n",
    "- [XceptionTime](https://github.com/timeseriesAI/tsai/blob/main/tsai/models/XceptionTime.py) (Rahimian, 2019) ([paper](https://arxiv.org/abs/1911.03803))\n",
    "- [ResCNN](https://github.com/timeseriesAI/tsai/blob/main/tsai/models/ResCNN.py) - 1D-ResCNN (Zou , 2019) ([paper](https://www.sciencedirect.com/science/article/pii/S0925231219311506))\n",
    "- [TabModel](https://github.com/timeseriesAI/tsai/blob/main/tsai/models/TabModel.py) - modified from fastai's [TabularModel](https://docs.fast.ai/tabular.model.html#TabularModel)\n",
    "- [OmniScale](https://github.com/timeseriesAI/tsai/blob/main/tsai/models/OmniScaleCNN.py) - Omni-Scale 1D-CNN (Tang, 2020) ([paper](https://arxiv.org/abs/2002.10061))\n",
    "- [TST](https://github.com/timeseriesAI/tsai/blob/main/tsai/models/TST.py) - Time Series Transformer (Zerveas, 2020) ([paper](https://dl.acm.org/doi/abs/10.1145/3447548.3467401))\n",
    "- [TabTransformer](https://github.com/timeseriesAI/tsai/blob/main/tsai/models/TabTransformer.py) (Huang, 2020) ([paper](https://arxiv.org/pdf/2012.06678))\n",
    "- [MiniRocket](https://github.com/timeseriesAI/tsai/blob/main/tsai/models/MINIROCKET.py) (Dempster, 2021) ([paper](https://arxiv.org/abs/2102.00457))\n",
    "- [XCM](https://github.com/timeseriesAI/tsai/blob/main/tsai/models/XCM.py) - An Explainable Convolutional Neural Network (Fauvel, 2021) ([paper](https://hal.inria.fr/hal-03469487/document))\n",
    "\n",
    "\n",
    "among others!"
   ]
  },
  {
   "cell_type": "markdown",
   "metadata": {},
   "source": [
    "## How to start using tsai?"
   ]
  },
  {
   "cell_type": "markdown",
   "metadata": {},
   "source": [
    "To get to know the tsai package, we'd suggest you start with this notebook in Google Colab: **[01_Intro_to_Time_Series_Classification](https://colab.research.google.com/github/timeseriesAI/tsai/blob/master/tutorial_nbs/01_Intro_to_Time_Series_Classification.ipynb)**\n",
    "It provides an overview of a time series classification task.\n",
    "\n",
    "We have also develop many other [tutorial notebooks](https://github.com/timeseriesAI/tsai/tree/main/tutorial_nbs). \n",
    "\n",
    "To use tsai in your own notebooks, the only thing you need to do after you have installed the package is to run this:\n",
    "```python\n",
    "from tsai.all import *\n",
    "```"
   ]
  },
  {
   "cell_type": "markdown",
   "metadata": {},
   "source": [
    "## Examples"
   ]
  },
  {
   "cell_type": "markdown",
   "metadata": {},
   "source": [
    "These are just a few examples of how you can use `tsai`:"
   ]
  },
  {
   "cell_type": "markdown",
   "metadata": {},
   "source": [
    "### Binary, univariate classification"
   ]
  },
  {
   "cell_type": "markdown",
   "metadata": {},
   "source": [
    "**Training:**\n",
    "```python\n",
    "from tsai.all import *\n",
    "X, y, splits = get_classification_data('ECG200', split_data=False)\n",
    "batch_tfms = TSStandardize()\n",
    "clf = TSClassifier(X, y, splits=splits, path='models', arch=InceptionTimePlus, batch_tfms=batch_tfms, metrics=accuracy, cbs=ShowGraph())\n",
    "clf.fit_one_cycle(100, 3e-4)\n",
    "clf.export(\"clf.pkl\") \n",
    "```\n",
    "\n",
    "**Inference:** \n",
    "\n",
    "```python\n",
    "from tsai.inference import load_learner\n",
    "clf = load_learner(\"models/clf.pkl\")\n",
    "probas, target, preds = clf.get_X_preds(X[splits[0]], y[splits[0]])\n",
    "```"
   ]
  },
  {
   "cell_type": "markdown",
   "metadata": {},
   "source": [
    "### Multi-class, multivariate classification"
   ]
  },
  {
   "cell_type": "markdown",
   "metadata": {},
   "source": [
    "**Training:**\n",
    "```bash\n",
    "from tsai.all import *\n",
    "X, y, splits = get_classification_data('LSST', split_data=False)\n",
    "batch_tfms = TSStandardize(by_sample=True)\n",
    "mv_clf = TSClassifier(X, y, splits=splits, path='models', arch=InceptionTimePlus, batch_tfms=batch_tfms, metrics=accuracy, cbs=ShowGraph())\n",
    "mv_clf.fit_one_cycle(10, 1e-2)\n",
    "mv_clf.export(\"mv_clf.pkl\")\n",
    "```\n",
    "\n",
    "**Inference:** \n",
    "\n",
    "```bash\n",
    "from tsai.inference import load_learner\n",
    "mv_clf = load_learner(\"models/mv_clf.pkl\")\n",
    "probas, target, preds = mv_clf.get_X_preds(X[splits[0]], y[splits[0]])\n",
    "```"
   ]
  },
  {
   "cell_type": "markdown",
   "metadata": {},
   "source": [
    "### Multivariate Regression"
   ]
  },
  {
   "cell_type": "markdown",
   "metadata": {},
   "source": [
    "**Training:**\n",
    "```bash\n",
    "from tsai.all import *\n",
    "X, y, splits = get_regression_data('AppliancesEnergy', split_data=False)\n",
    "batch_tfms = TSStandardize(by_sample=True)\n",
    "reg = TSRegressor(X, y, splits=splits, path='models', arch=TSTPlus, batch_tfms=batch_tfms, metrics=rmse, cbs=ShowGraph(), verbose=True)\n",
    "reg.fit_one_cycle(100, 3e-4)\n",
    "reg.export(\"reg.pkl\")\n",
    "```\n",
    "\n",
    "**Inference:**\n",
    "```bash\n",
    "from tsai.inference import load_learner\n",
    "reg = load_learner(\"models/reg.pkl\")\n",
    "raw_preds, target, preds = reg.get_X_preds(X[splits[0]], y[splits[0]])\n",
    "```"
   ]
  },
  {
   "cell_type": "markdown",
   "metadata": {},
   "source": [
    "RocketClassifier, MiniRocketClassifier, RocketRegressor and MiniRocketRegressor are somewhat different models (they are not actually deep learning models) and are used in a slightly different way: "
   ]
  },
  {
   "cell_type": "markdown",
   "metadata": {},
   "source": [
    "**Training:**\n",
    "```bash\n",
    "from tsai.all import *\n",
    "from sklearn.metrics import mean_squared_error\n",
    "X_train, y_train, X_test, y_test = get_regression_data('AppliancesEnergy')\n",
    "rmse_scorer = make_scorer(mean_squared_error, greater_is_better=False)\n",
    "mr_reg = MiniRocketRegressor(scoring=rmse_scorer)\n",
    "mr_reg.fit(X_train, y_train)\n",
    "mr_reg.save(\"minirocket_regressor\")\n",
    "```\n",
    "\n",
    "**Inference:**\n",
    "```bash\n",
    "mr_reg = load_rocket(\"minirocket_regressor\")\n",
    "y_pred = mr_reg.predict(X_test)\n",
    "mean_squared_error(y_test, y_pred, squared=False)\n",
    "```"
   ]
  },
  {
   "cell_type": "markdown",
   "metadata": {},
   "source": [
    "### Univariate Forecasting"
   ]
  },
  {
   "cell_type": "markdown",
   "metadata": {},
   "source": [
    "**Training:**\n",
    "```bash\n",
    "from tsai.all import *\n",
    "ts = get_forecasting_time_series(\"Sunspots\").values\n",
    "X, y = SlidingWindow(60, horizon=1)(ts)\n",
    "splits = TimeSplitter(235)(y) \n",
    "batch_tfms = TSStandardize()\n",
    "fcst = TSForecaster(X, y, splits=splits, path='models', batch_tfms=batch_tfms, bs=512, arch=TST, metrics=mae, cbs=ShowGraph())\n",
    "fcst.fit_one_cycle(50, 1e-3)\n",
    "fcst.export(\"fcst.pkl\")\n",
    "```\n",
    "\n",
    "**Inference:**\n",
    "\n",
    "```bash\n",
    "from tsai.inference import load_learner\n",
    "fcst = load_learner(\"models/fcst.pkl\")\n",
    "raw_preds, target, preds = fcst.get_X_preds(X[splits[0]], y[splits[0]])\n",
    "```"
   ]
  },
  {
   "cell_type": "markdown",
   "metadata": {},
   "source": [
    "## Input data format"
   ]
  },
  {
   "cell_type": "markdown",
   "metadata": {},
   "source": [
    "The input format for all time series models and image models in tsai is the same. An np.ndarray (or array-like object like zarr, etc) with 3 dimensions:\n",
    "\n",
    "**[# samples x # variables x sequence length]**\n",
    "\n",
    "The input format for tabular models in tsai (like TabModel, TabTransformer and TabFusionTransformer) is a pandas dataframe. See [example](https://timeseriesai.github.io/tsai/models.TabModel.html)."
   ]
  },
  {
   "cell_type": "markdown",
   "metadata": {},
   "source": [
    "## How to contribute to tsai?"
   ]
  },
  {
   "cell_type": "markdown",
   "metadata": {},
   "source": [
    "We welcome contributions of all kinds. Development of enhancements, bug fixes, documentation, tutorial notebooks, ... \n",
    "\n",
    "We have created a guide to help you start contributing to tsai. You can read it [here](https://github.com/timeseriesAI/tsai/blob/main/CONTRIBUTING.md)."
   ]
  },
  {
   "cell_type": "markdown",
   "metadata": {},
   "source": [
    "## Citing tsai"
   ]
  },
  {
   "cell_type": "markdown",
   "metadata": {},
   "source": [
    "If you use tsai in your research please use the following BibTeX entry:\n",
    "\n",
    "```text\n",
    "@Misc{tsai,\n",
    "    author =       {Ignacio Oguiza},\n",
    "    title =        {tsai - A state-of-the-art deep learning library for time series and sequential data},\n",
    "    howpublished = {Github},\n",
    "    year =         {2022},\n",
    "    url =          {https://github.com/timeseriesAI/tsai}\n",
    "}\n",
    "```"
   ]
  },
  {
   "cell_type": "code",
   "execution_count": null,
   "metadata": {},
   "outputs": [],
   "source": [
    "#hide\n",
    "from tsai.imports import *\n",
    "from tsai.export import *\n",
    "nb_name = get_nb_name()\n",
    "nb_name = \"index.ipynb\"\n",
    "create_scripts(nb_name);"
   ]
  },
  {
   "cell_type": "code",
   "execution_count": null,
   "metadata": {},
   "outputs": [],
   "source": []
  }
 ],
 "metadata": {
  "kernelspec": {
   "display_name": "Python 3 (ipykernel)",
   "language": "python",
   "name": "python3"
  }
 },
 "nbformat": 4,
 "nbformat_minor": 4
}
