{
 "cells": [
  {
   "cell_type": "code",
   "execution_count": null,
   "metadata": {},
   "outputs": [],
   "source": [
    "# default_exp callback.core"
   ]
  },
  {
   "cell_type": "markdown",
   "metadata": {},
   "source": [
    "# Callback\n",
    "\n",
    "> Miscellaneous callbacks for timeseriesAI."
   ]
  },
  {
   "cell_type": "code",
   "execution_count": null,
   "metadata": {},
   "outputs": [],
   "source": [
    "#export \n",
    "from fastai.callback.all import *\n",
    "from tsai.imports import *\n",
    "from tsai.utils import *\n",
    "from tsai.data.preprocessing import *\n",
    "from tsai.data.transforms import *\n",
    "from tsai.models.layers import *"
   ]
  },
  {
   "cell_type": "code",
   "execution_count": null,
   "metadata": {},
   "outputs": [],
   "source": [
    "#export\n",
    "import torch.multiprocessing\n",
    "torch.multiprocessing.set_sharing_strategy('file_system')"
   ]
  },
  {
   "cell_type": "markdown",
   "metadata": {},
   "source": [
    "## Events"
   ]
  },
  {
   "cell_type": "markdown",
   "metadata": {},
   "source": [
    "A callback can implement actions on the following events:\n",
    "* before_fit: called before doing anything, ideal for initial setup.\n",
    "* before_epoch: called at the beginning of each epoch, useful for any behavior you need to reset at each epoch.\n",
    "* before_train: called at the beginning of the training part of an epoch.\n",
    "* before_batch: called at the beginning of each batch, just after drawing said batch. It can be used to do any setup necessary for the batch (like hyper-parameter scheduling) or to change the input/target before it goes in the model (change of the input with techniques like mixup for instance).\n",
    "* after_pred: called after computing the output of the model on the batch. It can be used to change that output before it's fed to the loss.\n",
    "* after_loss: called after the loss has been computed, but before the backward pass. It can be used to add any penalty to the loss (AR or TAR in RNN training for instance).\n",
    "* before_backward: called after the loss has been computed, but only in training mode (i.e. when the backward pass will be used)\n",
    "* after_backward: called after the backward pass, but before the update of the parameters. It can be used to do any change to the gradients before said update (gradient clipping for instance).\n",
    "* after_step: called after the step and before the gradients are zeroed.\n",
    "* after_batch: called at the end of a batch, for any clean-up before the next one.\n",
    "* after_train: called at the end of the training phase of an epoch.\n",
    "* before_validate: called at the beginning of the validation phase of an epoch, useful for any setup needed specifically for validation.\n",
    "* after_validate: called at the end of the validation part of an epoch.\n",
    "* after_epoch: called at the end of an epoch, for any clean-up before the next one.\n",
    "* after_fit: called at the end of training, for final clean-up."
   ]
  },
  {
   "cell_type": "markdown",
   "metadata": {},
   "source": [
    "## Learner attributes"
   ]
  },
  {
   "cell_type": "markdown",
   "metadata": {},
   "source": [
    "When writing a callback, the following attributes of Learner are available:\n",
    "\n",
    "* **model**: the model used for training/validation\n",
    "* **data**: the underlying DataLoaders\n",
    "* **loss_func**: the loss function used\n",
    "* **opt**: the optimizer used to udpate the model parameters\n",
    "* **opt_func**: the function used to create the optimizer\n",
    "* **cbs**: the list containing all Callbacks\n",
    "* **dl**: current DataLoader used for iteration\n",
    "* **x/xb**: last input drawn from self.dl (potentially modified by callbacks). xb is always a tuple (potentially with one element) and x is detuplified. You can only assign to xb.\n",
    "* **y/yb**: last target drawn from self.dl (potentially modified by callbacks). yb is always a tuple (potentially with one element) and y is detuplified. You can only assign to yb.\n",
    "* **pred**: last predictions from self.model (potentially modified by callbacks)\n",
    "* **loss**: last computed loss (potentially modified by callbacks)\n",
    "* **n_epoch**: the number of epochs in this training\n",
    "* **n_iter**: the number of iterations in the current self.dl\n",
    "* **epoch**: the current epoch index (from 0 to n_epoch-1)\n",
    "* **iter**: the current iteration index in self.dl (from 0 to n_iter-1)\n",
    "\n",
    "The following attributes are added by TrainEvalCallback and should be available unless you went out of your way to remove that callback:\n",
    "* **train_iter**: the number of training iterations done since the beginning of this training\n",
    "* **pct_train**: from 0. to 1., the percentage of training iterations completed\n",
    "* **training**: flag to indicate if we're in training mode or not\n",
    "\n",
    "The following attribute is added by Recorder and should be available unless you went out of your way to remove that callback:\n",
    "* **smooth_loss**: an exponentially-averaged version of the training loss"
   ]
  },
  {
   "cell_type": "markdown",
   "metadata": {},
   "source": [
    "## Transform scheduler"
   ]
  },
  {
   "cell_type": "code",
   "execution_count": null,
   "metadata": {},
   "outputs": [],
   "source": [
    "# export\n",
    "class TransformScheduler(Callback):\n",
    "    \"A callback to schedule batch transforms during training based on a function (sched_lin, sched_exp, sched_cos (default), etc)\"\n",
    "    def __init__(self, schedule_func:callable, show_plot:bool=False): \n",
    "        self.schedule_func,self.show_plot = schedule_func,show_plot\n",
    "        self.mult = []\n",
    "\n",
    "    def before_fit(self):\n",
    "        for pct in np.linspace(0, 1, len(self.dls.train) * self.n_epoch): self.mult.append(self.schedule_func(pct))\n",
    "        # get initial magnitude values and update initial value\n",
    "        self.mag = []\n",
    "        self.mag_tfms = []\n",
    "        for t in self.dls.after_batch: \n",
    "            if hasattr(t, 'magnitude'):\n",
    "                self.mag.append(t.magnitude)\n",
    "                t.magnitude *= self.mult[0]\n",
    "                self.mag_tfms.append(t)\n",
    "\n",
    "    def after_batch(self):\n",
    "        if self.training and len(self.mag_tfms)>0 and self.train_iter < len(self.mult):\n",
    "            # set values for next batch\n",
    "            for t,m in zip(self.mag_tfms, self.mag): \n",
    "                t.magnitude = m * self.mult[self.train_iter]\n",
    "                \n",
    "    def after_fit(self):\n",
    "        if self.show_plot and self.mult != [] and len(self.mag_tfms)>0: \n",
    "            print()\n",
    "            plt.plot(self.mult)\n",
    "            plt.title('Scheduled tfms')\n",
    "            plt.show()\n",
    "            print()\n",
    "            self.show_plot = False\n",
    "        # set values to initial values\n",
    "        for t,m in zip(self.mag_tfms, self.mag): t.magnitude = m\n",
    "    \n",
    "    def __repr__(self):\n",
    "        return f'{self.__class__.__name__}({self.schedule_func})'"
   ]
  },
  {
   "cell_type": "code",
   "execution_count": null,
   "metadata": {},
   "outputs": [
    {
     "data": {
      "text/plain": [
       "TransformScheduler(<fastai.callback.schedule._Annealer object at 0x7fa083bf0390>)"
      ]
     },
     "execution_count": null,
     "metadata": {},
     "output_type": "execute_result"
    }
   ],
   "source": [
    "TransformScheduler(SchedCos(1, 0))"
   ]
  },
  {
   "cell_type": "code",
   "execution_count": null,
   "metadata": {},
   "outputs": [
    {
     "data": {
      "image/png": "[encoded data removed]",
      "text/plain": [
       "<Figure size 432x288 with 1 Axes>"
      ]
     },
     "metadata": {
      "needs_background": "light"
     },
     "output_type": "display_data"
    }
   ],
   "source": [
    "p = torch.linspace(0.,1,100)\n",
    "f = combine_scheds([0.3, 0.4, 0.3], [SchedLin(1.,1.), SchedCos(1.,0.), SchedLin(0.,.0), ])\n",
    "plt.plot(p, [f(o) for o in p]);"
   ]
  },
  {
   "cell_type": "code",
   "execution_count": null,
   "metadata": {},
   "outputs": [
    {
     "data": {
      "image/png": "[encoded data removed]",
      "text/plain": [
       "<Figure size 432x288 with 1 Axes>"
      ]
     },
     "metadata": {
      "needs_background": "light"
     },
     "output_type": "display_data"
    }
   ],
   "source": [
    "p = torch.linspace(0.,1,100)\n",
    "f = combine_scheds([0.3, 0.7], [SchedCos(0.,1.), SchedCos(1.,0.)])\n",
    "plt.plot(p, [f(o) for o in p]);"
   ]
  },
  {
   "cell_type": "markdown",
   "metadata": {},
   "source": [
    "## ShowGraph"
   ]
  },
  {
   "cell_type": "code",
   "execution_count": null,
   "metadata": {},
   "outputs": [],
   "source": [
    "#export\n",
    "class ShowGraph(Callback):\n",
    "    \"(Modified) Update a graph of training and validation loss\"\n",
    "    order,run_valid=65,False\n",
    "    names = ['train', 'valid']\n",
    "    def __init__(self, plot_metrics:bool=True, final_losses:bool=True):\n",
    "        store_attr(\"plot_metrics,final_losses\")\n",
    "\n",
    "    def before_fit(self):\n",
    "        self.run = not hasattr(self.learn, 'lr_finder') and not hasattr(self, \"gather_preds\")\n",
    "        if not(self.run): return\n",
    "        self.nb_batches = []\n",
    "        self.learn.recorder.loss_idxs = [i for i,n in enumerate(self.learn.recorder.metric_names[1:-1]) if 'loss' in n]\n",
    "        _metrics_info = [(i,n) for i,n in enumerate(self.learn.recorder.metric_names[1:-1]) if 'loss' not in n]\n",
    "        if len(_metrics_info) > 0: \n",
    "            self.metrics_idxs, self.metrics_names = list(zip(*_metrics_info))\n",
    "        else: \n",
    "            self.metrics_idxs, self.metrics_names = None, None\n",
    "\n",
    "    def after_train(self): self.nb_batches.append(self.train_iter - 1)\n",
    "\n",
    "    def after_epoch(self):\n",
    "        \"Plot validation loss in the pbar graph\"\n",
    "        if not self.nb_batches: return\n",
    "        rec = self.learn.recorder\n",
    "        if self.epoch == 0:\n",
    "            self.rec_start = len(rec.losses)\n",
    "        iters = range_of(rec.losses)\n",
    "        val_losses = np.stack(rec.values)[:, self.learn.recorder.loss_idxs[-1]].tolist()\n",
    "        x_bounds = (0, len(rec.losses) - 1)\n",
    "        if self.epoch == 0:\n",
    "            y_min = min((min(rec.losses), min(val_losses)))\n",
    "            y_max = max((max(rec.losses), max(val_losses)))\n",
    "        else:\n",
    "            y_min = min((min(rec.losses[self.rec_start-1:]), min(val_losses)))\n",
    "            y_max = max((max(rec.losses[self.rec_start-1:]), max(val_losses)))\n",
    "        margin = (y_max - y_min) * .05\n",
    "        y_bounds = (y_min - margin, y_max + margin)\n",
    "        self.update_graph([(iters, rec.losses), (self.nb_batches, val_losses)], x_bounds, y_bounds)\n",
    "\n",
    "    def after_fit(self):\n",
    "        plt.close(self.graph_ax.figure)\n",
    "        if self.plot_metrics: self.learn.plot_metrics(final_losses=self.final_losses)\n",
    "\n",
    "    def update_graph(self, graphs, x_bounds=None, y_bounds=None, figsize=(6,4)):\n",
    "        if not hasattr(self, 'graph_fig'):\n",
    "            self.graph_fig, self.graph_ax = plt.subplots(1, figsize=figsize)\n",
    "            self.graph_out = display(self.graph_ax.figure, display_id=True)\n",
    "        self.graph_ax.clear()\n",
    "        if len(self.names) < len(graphs): self.names += [''] * (len(graphs) - len(self.names))\n",
    "        for g,n in zip(graphs,self.names): \n",
    "            self.graph_ax.plot(*g, label=n)\n",
    "        self.graph_ax.legend(loc='upper right')\n",
    "        self.graph_ax.grid(color='gainsboro', linewidth=.5)\n",
    "        if x_bounds is not None: self.graph_ax.set_xlim(*x_bounds)\n",
    "        if y_bounds is not None: self.graph_ax.set_ylim(*y_bounds)\n",
    "        self.graph_ax.set_title(f'Losses\\nepoch: {self.epoch +1}/{self.n_epoch}')\n",
    "        self.graph_out.update(self.graph_ax.figure)\n",
    "        \n",
    "ShowGraphCallback2 = ShowGraph"
   ]
  },
  {
   "cell_type": "markdown",
   "metadata": {},
   "source": [
    "## SaveModel"
   ]
  },
  {
   "cell_type": "code",
   "execution_count": null,
   "metadata": {},
   "outputs": [],
   "source": [
    "#export\n",
    "\n",
    "class SaveModel(TrackerCallback):\n",
    "    \"A `TrackerCallback` that saves the model's best during training and loads it at the end with a verbose option.\"\n",
    "    _only_train_loop,order = True,TrackerCallback.order+1\n",
    "    def __init__(self, monitor='valid_loss', comp=None, min_delta=0., fname='model', every_epoch=False, at_end=False,\n",
    "                 with_opt=False, reset_on_fit=True, verbose=False):\n",
    "        super().__init__(monitor=monitor, comp=comp, min_delta=min_delta, reset_on_fit=reset_on_fit)\n",
    "        assert not (every_epoch and at_end), \"every_epoch and at_end cannot both be set to True\"\n",
    "        # keep track of file path for loggers\n",
    "        self.last_saved_path = None\n",
    "        store_attr('fname,every_epoch,at_end,with_opt,verbose')\n",
    "\n",
    "    def _save(self, name): self.last_saved_path = self.learn.save(name, with_opt=self.with_opt)\n",
    "\n",
    "    def after_epoch(self):\n",
    "        \"Compare the value monitored to its best score and save if best.\"\n",
    "        if self.every_epoch:\n",
    "            if (self.epoch%self.every_epoch) == 0: self._save(f'{self.fname}_{self.epoch}')\n",
    "        else: #every improvement\n",
    "            super().after_epoch()\n",
    "            if self.new_best:\n",
    "                pv(f'Better model found at epoch {self.epoch} with {self.monitor} value: {self.best}.', self.verbose)\n",
    "                self._save(f'{self.fname}')\n",
    "\n",
    "    def after_fit(self, **kwargs):\n",
    "        \"Load the best model.\"\n",
    "        if self.at_end: self._save(f'{self.fname}')\n",
    "        elif not self.every_epoch: self.learn.load(f'{self.fname}', with_opt=self.with_opt)"
   ]
  },
  {
   "cell_type": "markdown",
   "metadata": {},
   "source": [
    "# Weight per sample loss"
   ]
  },
  {
   "cell_type": "markdown",
   "metadata": {},
   "source": [
    "This process shows an example of how the weights could be calculated. This particular regression method was published in: \n",
    "\n",
    "Yang, Y., Zha, K., Chen, Y. C., Wang, H., & Katabi, D. (2021). Delving into Deep Imbalanced Regression. arXiv preprint arXiv:2102.09554.    \n",
    "(https://arxiv.org/pdf/2102.09554.pdf)"
   ]
  },
  {
   "cell_type": "code",
   "execution_count": null,
   "metadata": {},
   "outputs": [],
   "source": [
    "# export\n",
    "from scipy.ndimage import gaussian_filter1d\n",
    "from scipy.signal.windows import triang\n",
    "from scipy.ndimage import convolve1d\n",
    "\n",
    "\n",
    "def get_lds_kernel_window(lds_kernel=\"gaussian\", lds_ks=9, lds_sigma=1):\n",
    "    r\"\"\"Function to determine the label distribution smoothing kernel window\n",
    "\n",
    "    lds_kernel (str): LDS kernel type\n",
    "    lds_ks (int): LDS kernel size (should be an odd number).\n",
    "    lds_sigma (float): LDS gaussian/laplace kernel sigma\n",
    "    \"\"\"\n",
    "\n",
    "    assert lds_kernel in ['gaussian', 'triang', 'laplace']\n",
    "    half_ks = (lds_ks - 1) // 2\n",
    "\n",
    "    if lds_kernel == 'gaussian':\n",
    "        base_kernel = [0.] * half_ks + [1.] + [0.] * half_ks\n",
    "        kernel_window = gaussian_filter1d(\n",
    "            base_kernel, sigma=lds_sigma) / max(gaussian_filter1d(base_kernel, sigma=lds_sigma))\n",
    "    elif lds_kernel == 'triang':\n",
    "        kernel_window = triang(lds_ks)\n",
    "    else:\n",
    "        def laplace(x): return np.exp(-abs(x) / lds_sigma) / (2. * lds_sigma)\n",
    "        kernel_window = list(map(laplace, np.arange(-half_ks, half_ks + 1))) / \\\n",
    "            max(map(laplace, np.arange(-half_ks, half_ks + 1)))\n",
    "\n",
    "    return kernel_window\n",
    "\n",
    "\n",
    "def prepare_LDS_weights(labels, n_bins=None, label_range=None, reweight='inv', lds_kernel='gaussian', lds_ks=9, lds_sigma=1, \n",
    "                        max_rel_weight=None, show_plot=True):\n",
    "    \n",
    "    assert reweight in {'inv', 'sqrt_inv'}\n",
    "    labels_shape = labels.shape\n",
    "    if n_bins is None:\n",
    "        labels = labels.astype(int)\n",
    "        n_bins = np.max(labels) - np.min(labels)\n",
    "    num_per_label, bin_edges = np.histogram(labels, bins=n_bins, range=label_range)\n",
    "    new_labels = np.searchsorted(bin_edges, labels, side='left')\n",
    "    new_labels[new_labels == 0] = 1\n",
    "    if reweight == 'sqrt_inv':\n",
    "        num_per_label = np.sqrt(num_per_label)\n",
    "    lds_kernel_window = get_lds_kernel_window(lds_kernel=lds_kernel, lds_ks=lds_ks, lds_sigma=lds_sigma)\n",
    "    smoothed_value = convolve1d(num_per_label, weights=lds_kernel_window, mode='constant')\n",
    "    if show_plot:\n",
    "        plt.bar(bin_edges[:-1], num_per_label / num_per_label.sum(), width=(bin_edges[1]-bin_edges[0]), color='lime', edgecolor='black', label='original')\n",
    "        plt.plot(bin_edges[:-1], smoothed_value / smoothed_value.sum(), color='red', label='smoothed')\n",
    "        plt.title(f\"Label distribution by bin (reweight={reweight})\")\n",
    "        plt.legend(loc='best')\n",
    "        plt.show()\n",
    "    num_per_label = smoothed_value[new_labels.flatten() - 1].reshape(*labels_shape)\n",
    "    weights = 1 / num_per_label\n",
    "    weights[num_per_label == 0] = 0\n",
    "    if max_rel_weight is not None: \n",
    "        weights = np.clip(weights, None, np.min(weights) * max_rel_weight)\n",
    "    weights = weights / weights.sum() * len(labels)\n",
    "    return torch.Tensor(weights)"
   ]
  },
  {
   "cell_type": "code",
   "execution_count": null,
   "metadata": {},
   "outputs": [
    {
     "data": {
      "image/png": "[encoded data removed]",
      "text/plain": [
       "<Figure size 432x288 with 1 Axes>"
      ]
     },
     "metadata": {
      "needs_background": "light"
     },
     "output_type": "display_data"
    },
    {
     "data": {
      "image/png": "[encoded data removed]",
      "text/plain": [
       "<Figure size 432x288 with 1 Axes>"
      ]
     },
     "metadata": {
      "needs_background": "light"
     },
     "output_type": "display_data"
    },
    {
     "data": {
      "image/png": "[encoded data removed]",
      "text/plain": [
       "<Figure size 432x288 with 1 Axes>"
      ]
     },
     "metadata": {
      "needs_background": "light"
     },
     "output_type": "display_data"
    }
   ],
   "source": [
    "labels = np.concatenate([np.random.normal(-20, 1, 10), np.random.normal(0, 2, 100), np.random.normal(12, 2, 300)], -1)\n",
    "labels[(-1<labels) & (labels<1)] = 0   # This is done to create some 'gaps' for demo purposes\n",
    "labels[(10<labels) & (labels<12)] = 0  # This is done to create some 'gaps' for demo purposes\n",
    "\n",
    "n_bins = 50\n",
    "label_range=None\n",
    "reweight = 'inv'\n",
    "lds_kernel='gaussian'\n",
    "lds_ks=5\n",
    "lds_sigma=2\n",
    "\n",
    "weights_per_sample = prepare_LDS_weights(labels, n_bins, label_range=label_range, reweight=reweight, \n",
    "                                         lds_kernel=lds_kernel, lds_ks=lds_ks, lds_sigma=lds_sigma, show_plot=True)\n",
    "\n",
    "n_bins = 50\n",
    "label_range=None\n",
    "reweight = 'sqrt_inv'\n",
    "lds_kernel='gaussian'\n",
    "lds_ks=5\n",
    "lds_sigma=2\n",
    "\n",
    "weights_per_sample = prepare_LDS_weights(labels, n_bins, label_range=label_range, reweight=reweight, \n",
    "                                         lds_kernel=lds_kernel, lds_ks=lds_ks, lds_sigma=lds_sigma, show_plot=True)\n",
    "\n",
    "n_bins = None\n",
    "label_range=None\n",
    "reweight = 'sqrt_inv'\n",
    "lds_kernel='triang'\n",
    "lds_ks=9\n",
    "lds_sigma=1\n",
    "\n",
    "weights_per_sample = prepare_LDS_weights(labels, n_bins, label_range=label_range, reweight=reweight, \n",
    "                                         lds_kernel=lds_kernel, lds_ks=lds_ks, lds_sigma=lds_sigma, show_plot=True)"
   ]
  },
  {
   "cell_type": "code",
   "execution_count": null,
   "metadata": {},
   "outputs": [],
   "source": [
    "# export\n",
    "class WeightedPerSampleLoss(Callback):\n",
    "    order = 65\n",
    "\n",
    "    r\"\"\"Loss wrapper than applies a weight per sample during training\n",
    "\n",
    "    Weights are not applied to the validation loss.\n",
    "\n",
    "    Args:\n",
    "        instance_weights:   weights that will be applied. Weights will be normalized to 1.\n",
    "                            You can pass weights for the entire dataset or just for the training set.\n",
    "    \"\"\"\n",
    "\n",
    "    def __init__(self, instance_weights):\n",
    "        store_attr()\n",
    "\n",
    "    def before_fit(self):\n",
    "        self.old_loss = self.learn.loss_func\n",
    "        self.reduction = getattr(self.learn.loss_func, 'reduction', None)\n",
    "        self.learn.loss_func = _PerInstanceLoss(crit=self.learn.loss_func)\n",
    "        if len(self.instance_weights) == len(self.learn.dls.train.dataset):\n",
    "            self.instance_weights = torch.cat([self.instance_weights, torch.zeros(len(self.learn.dls.valid.dataset))])\n",
    "        assert len(self.instance_weights) == len(self.learn.dls.train.dataset) + len(self.learn.dls.valid.dataset)\n",
    "        self.instance_weights = self.instance_weights / torch.sum(self.instance_weights) * len(self.instance_weights)\n",
    "        self.instance_weights = torch.as_tensor(self.instance_weights, device=self.learn.dls.device)\n",
    "\n",
    "    def before_batch(self):\n",
    "        self.learn.loss_func.training = self.training\n",
    "        if self.training:\n",
    "            input_idxs = self.learn.dls.train.input_idxs\n",
    "            self.learn.loss_func.weights = self.instance_weights[input_idxs]\n",
    "\n",
    "    def after_fit(self):\n",
    "        self.learn.loss_func = self.old_loss\n",
    "        if self.reduction is not None: self.learn.loss_func.reduction = self.reduction\n",
    "            \n",
    "\n",
    "class _PerInstanceLoss(Module):\n",
    "    def __init__(self, crit):\n",
    "        self.crit = crit\n",
    "        self.crit.reduction = 'none'\n",
    "        self.weights = None\n",
    "        self.training = False\n",
    "\n",
    "    def forward(self, input, target):\n",
    "        if not self.training:\n",
    "            return self.crit(input, target).mean()\n",
    "        else:\n",
    "            return ((self.crit(input, target) * self.weights)).mean()"
   ]
  },
  {
   "cell_type": "markdown",
   "metadata": {},
   "source": [
    "# BatchSubsampler"
   ]
  },
  {
   "cell_type": "code",
   "execution_count": null,
   "metadata": {},
   "outputs": [],
   "source": [
    "# export\n",
    "\n",
    "class BatchSubsampler(Callback):\n",
    "    \"\"\" Callback that selects a percentage of samples and/ or sequence steps with replacement from each training batch\n",
    "\n",
    "    Args:\n",
    "    ====\n",
    "\n",
    "    sample_pct:     percentage of random samples (or instances) that will be drawn. If 1. the output batch will contain the same number of samples\n",
    "                    as the input batch.\n",
    "    step_pct:       percentage of random sequence steps that will be drawn. If 1. the output batch will contain the same number of sequence steps\n",
    "                    as the input batch. If used with models that don't use a pooling layer, this must be set to 1 to keep the same dimensions.\n",
    "                    With CNNs, this value may be different.\n",
    "    same_seq_len:   If True, it ensures that the output has the same shape as the input, even if the step_pct chosen is < 1. Defaults to True.\n",
    "    update_y:       used with step_pct. If True, it applies the same random indices to y. It can only be used with sequential targets.\n",
    "    \"\"\"\n",
    "\n",
    "    def __init__(self, sample_pct:Optional[float]=None, step_pct:Optional[float]=None, same_seq_len:bool=True, update_y:bool=False):\n",
    "        store_attr()\n",
    "\n",
    "    def before_fit(self):\n",
    "        self.run = not hasattr(self, \"gather_preds\")\n",
    "        if not(self.run): return\n",
    "\n",
    "    def before_batch(self):\n",
    "        if not self.training: return\n",
    "\n",
    "        if self.sample_pct is not None:\n",
    "            B = self.x.shape[0]\n",
    "            if isinstance(self.sample_pct, tuple):\n",
    "                sample_pct = np.random.rand() * (self.sample_pct[1] - self.sample_pct[0]) + self.sample_pct[0]\n",
    "            else:\n",
    "                sample_pct = self.sample_pct\n",
    "            idxs = np.random.choice(B, round(B * sample_pct), True)\n",
    "            self.learn.xb = tuple(xbi[idxs] for xbi in self.learn.xb)\n",
    "            self.learn.yb = tuple(ybi[idxs] for ybi in self.learn.yb)\n",
    "\n",
    "        if self.step_pct is not None:\n",
    "            S = self.x.shape[-1]\n",
    "            if isinstance(self.step_pct, tuple):\n",
    "                step_pct = np.random.rand() * (self.step_pct[1] - self.step_pct[0]) + self.step_pct[0]\n",
    "            else:\n",
    "                step_pct = self.step_pct\n",
    "            if self.step_pct != 1 and self.same_seq_len:\n",
    "                idxs = np.sort(np.tile(np.random.choice(S, round(S * step_pct), True), math.ceil(1 / step_pct))[:S])\n",
    "            else:\n",
    "                idxs = np.sort(np.random.choice(S, round(S * step_pct), True))\n",
    "            self.learn.xb = tuple(xbi[...,idxs] for xbi in self.learn.xb)\n",
    "            if self.update_y:\n",
    "                self.learn.yb = tuple(ybi[...,idxs] for ybi in self.learn.yb)"
   ]
  },
  {
   "cell_type": "code",
   "execution_count": null,
   "metadata": {},
   "outputs": [
    {
     "data": {
      "application/javascript": "IPython.notebook.save_checkpoint();",
      "text/plain": [
       "<IPython.core.display.Javascript object>"
      ]
     },
     "metadata": {},
     "output_type": "display_data"
    },
    {
     "name": "stdout",
     "output_type": "stream",
     "text": [
      "060_callback.core.ipynb saved at 2022-03-01 12:24:55.\n",
      "Converted 060_callback.core.ipynb.\n",
      "\n",
      "\n",
      "Correct conversion! 😃\n",
      "Total time elapsed 0.116 s\n",
      "Tuesday 01/03/22 12:24:59 CET\n"
     ]
    },
    {
     "data": {
      "text/html": [
       "\n",
       "                <audio  controls=\"controls\" autoplay=\"autoplay\">\n",
       "                    <source src=\"data:audio/wav;base64,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\" type=\"audio/wav\" />\n",
       "                    Your browser does not support the audio element.\n",
       "                </audio>\n",
       "              "
      ],
      "text/plain": [
       "<IPython.lib.display.Audio object>"
      ]
     },
     "metadata": {},
     "output_type": "display_data"
    }
   ],
   "source": [
    "#hide\n",
    "from tsai.imports import *\n",
    "from tsai.export import *\n",
    "nb_name = get_nb_name()\n",
    "# nb_name = \"060_callback.core.ipynb\"\n",
    "create_scripts(nb_name);"
   ]
  }
 ],
 "metadata": {
  "kernelspec": {
   "display_name": "Python 3 (ipykernel)",
   "language": "python",
   "name": "python3"
  }
 },
 "nbformat": 4,
 "nbformat_minor": 2
}
